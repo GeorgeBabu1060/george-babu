{
  "nbformat": 4,
  "nbformat_minor": 0,
  "metadata": {
    "colab": {
      "provenance": []
    },
    "kernelspec": {
      "name": "python3",
      "display_name": "Python 3"
    },
    "language_info": {
      "name": "python"
    }
  },
  "cells": [
    {
      "cell_type": "code",
      "source": [
        "'''Write a Python program to find the area of a circle with a given radius\n",
        "using the formula area = pi * r ** 2. Assume that pi is 3.14'''"
      ],
      "metadata": {
        "colab": {
          "base_uri": "https://localhost:8080/",
          "height": 35
        },
        "id": "_8Z16dWhJGMw",
        "outputId": "7899434a-eacd-4a12-c2e8-20ae8ff8404f"
      },
      "execution_count": null,
      "outputs": [
        {
          "output_type": "execute_result",
          "data": {
            "text/plain": [
              "'Write a Python program to find the area of a circle with a given radius\\nusing the formula area = pi * r ** 2. Assume that pi is 3.14'"
            ],
            "application/vnd.google.colaboratory.intrinsic+json": {
              "type": "string"
            }
          },
          "metadata": {},
          "execution_count": 2
        }
      ]
    },
    {
      "cell_type": "code",
      "source": [
        "r = int(input('Enter the radius of the circle:'))\n",
        "pi = 3.14\n",
        "area = pi*r**2\n",
        "print('Area of the circle is:',area)"
      ],
      "metadata": {
        "colab": {
          "base_uri": "https://localhost:8080/"
        },
        "id": "YLJTY4QLJJ82",
        "outputId": "90b7b755-4e16-4e84-fb11-820872102f75"
      },
      "execution_count": null,
      "outputs": [
        {
          "output_type": "stream",
          "name": "stdout",
          "text": [
            "Enter the radius of the circle:4\n",
            "Area of the circle is: 50.24\n"
          ]
        }
      ]
    },
    {
      "cell_type": "code",
      "source": [
        "'''Write a Python program to convert Celsius to Fahrenheit using the\n",
        "formula F = (C * 9/5) + 32'''\n"
      ],
      "metadata": {
        "colab": {
          "base_uri": "https://localhost:8080/",
          "height": 35
        },
        "id": "8S-iaDD2JzMR",
        "outputId": "42079849-c29a-4ee4-b1c5-3eb3f7dd159d"
      },
      "execution_count": null,
      "outputs": [
        {
          "output_type": "execute_result",
          "data": {
            "text/plain": [
              "'Write a Python program to convert Celsius to Fahrenheit using the\\nformula F = (C * 9/5) + 32'"
            ],
            "application/vnd.google.colaboratory.intrinsic+json": {
              "type": "string"
            }
          },
          "metadata": {},
          "execution_count": 4
        }
      ]
    },
    {
      "cell_type": "code",
      "source": [
        "c = float(input('Enter the celsius:'))\n",
        "f = (c*9/5)+32\n",
        "print('The Fahrenheit is :', f)"
      ],
      "metadata": {
        "colab": {
          "base_uri": "https://localhost:8080/"
        },
        "id": "pcIBsMNCKHEt",
        "outputId": "1629a16b-be97-46d9-b6ea-9df20a08912b"
      },
      "execution_count": null,
      "outputs": [
        {
          "output_type": "stream",
          "name": "stdout",
          "text": [
            "Enter the celsius:30\n",
            "The Fahrenheit is : 86.0\n"
          ]
        }
      ]
    },
    {
      "cell_type": "code",
      "source": [
        "'''Write a Python program to find the quotient and remainder of two\n",
        "numbers using the division operator / and the modulo operator % '''"
      ],
      "metadata": {
        "colab": {
          "base_uri": "https://localhost:8080/",
          "height": 35
        },
        "id": "SyJKb7eSK1zd",
        "outputId": "3fe6e229-18ec-4be6-8820-5ff89cab240a"
      },
      "execution_count": null,
      "outputs": [
        {
          "output_type": "execute_result",
          "data": {
            "text/plain": [
              "'Write a Python program to find the quotient and remainder of two\\nnumbers using the division operator / and the modulo operator '"
            ],
            "application/vnd.google.colaboratory.intrinsic+json": {
              "type": "string"
            }
          },
          "metadata": {},
          "execution_count": 6
        }
      ]
    },
    {
      "cell_type": "code",
      "source": [
        "a = int(input('Enter the first number:'))\n",
        "b = int(input('enter the second number:'))\n",
        "quotient=a/b\n",
        "reminder=a%b\n",
        "print('The quotient is',quotient)\n",
        "print('The reminder is',reminder)"
      ],
      "metadata": {
        "colab": {
          "base_uri": "https://localhost:8080/"
        },
        "id": "MBigWamWLGbe",
        "outputId": "24707252-079d-4301-cb1e-20217123fe68"
      },
      "execution_count": null,
      "outputs": [
        {
          "output_type": "stream",
          "name": "stdout",
          "text": [
            "Enter the first number:5\n",
            "enter the second number:3\n",
            "The quotient is 1.6666666666666667\n",
            "The reminder is 2\n"
          ]
        }
      ]
    },
    {
      "cell_type": "code",
      "source": [
        "'''Write a Python program to check whether a given number is even or odd\n",
        "using the modulo operator %'''"
      ],
      "metadata": {
        "colab": {
          "base_uri": "https://localhost:8080/",
          "height": 35
        },
        "id": "GrB_BL8LMOle",
        "outputId": "0ba40454-510d-4288-ebd9-3a73e409fc2c"
      },
      "execution_count": null,
      "outputs": [
        {
          "output_type": "execute_result",
          "data": {
            "text/plain": [
              "'Write a Python program to check whether a given number is even or odd\\nusing the modulo operator %'"
            ],
            "application/vnd.google.colaboratory.intrinsic+json": {
              "type": "string"
            }
          },
          "metadata": {},
          "execution_count": 10
        }
      ]
    },
    {
      "cell_type": "code",
      "source": [
        "num=int(input('Enter the number:'))\n",
        "if num%2==0:\n",
        " print('The number is even')\n",
        "else:\n",
        " print('The number is odd')\n"
      ],
      "metadata": {
        "colab": {
          "base_uri": "https://localhost:8080/"
        },
        "id": "1BedI-P0MjXi",
        "outputId": "d7440be9-5fa0-422a-de5b-4081ebb287b2"
      },
      "execution_count": null,
      "outputs": [
        {
          "output_type": "stream",
          "name": "stdout",
          "text": [
            "Enter the number:34\n",
            "The number is even\n"
          ]
        }
      ]
    },
    {
      "cell_type": "code",
      "source": [
        "'''Write a Python program to calculate the average of three numbers\n",
        "entered by the user.'''"
      ],
      "metadata": {
        "id": "Yop5_PmPOghf",
        "colab": {
          "base_uri": "https://localhost:8080/",
          "height": 35
        },
        "outputId": "87f230a9-a68b-4056-ae88-bdd77a6e8824"
      },
      "execution_count": null,
      "outputs": [
        {
          "output_type": "execute_result",
          "data": {
            "text/plain": [
              "'Write a Python program to calculate the average of three numbers\\nentered by the user.'"
            ],
            "application/vnd.google.colaboratory.intrinsic+json": {
              "type": "string"
            }
          },
          "metadata": {},
          "execution_count": 16
        }
      ]
    },
    {
      "cell_type": "code",
      "source": [
        "n1=int(input('Enter the first number'))\n",
        "n2=int(input('Enter the second number'))\n",
        "n3=int(input('Enter the third number'))\n",
        "avg=(n1+n2+n3)/3\n",
        "print('the average of three number',avg)"
      ],
      "metadata": {
        "colab": {
          "base_uri": "https://localhost:8080/"
        },
        "id": "VHW90MBf6B-c",
        "outputId": "962a2467-1283-4281-b759-640603282925"
      },
      "execution_count": null,
      "outputs": [
        {
          "output_type": "stream",
          "name": "stdout",
          "text": [
            "Enter the first number2\n",
            "Enter the second number4\n",
            "Enter the third number6\n",
            "the average of three number 4.0\n"
          ]
        }
      ]
    },
    {
      "cell_type": "code",
      "source": [
        "'''Write a Python program to swap two variables without using a\n",
        "temporary variable'''\n"
      ],
      "metadata": {
        "colab": {
          "base_uri": "https://localhost:8080/",
          "height": 35
        },
        "id": "FOxok_-N7re_",
        "outputId": "932d3290-96fd-4090-fd8d-9798fe5cd4df"
      },
      "execution_count": null,
      "outputs": [
        {
          "output_type": "execute_result",
          "data": {
            "text/plain": [
              "'Write a Python program to swap two variables without using a\\ntemporary variable'"
            ],
            "application/vnd.google.colaboratory.intrinsic+json": {
              "type": "string"
            }
          },
          "metadata": {},
          "execution_count": 19
        }
      ]
    },
    {
      "cell_type": "code",
      "source": [
        "v1=(input('Enter the first variable:'))\n",
        "v2=(input('Enter the second variable:'))\n",
        "v1,v2=v2,v1\n",
        "print('The value of v1 after swapping:',v1)\n",
        "print('The value of v2 after swapping:',v2)"
      ],
      "metadata": {
        "colab": {
          "base_uri": "https://localhost:8080/"
        },
        "id": "KjO7KquZ8PLu",
        "outputId": "87987ded-6c14-4480-f95e-2122514ede28"
      },
      "execution_count": null,
      "outputs": [
        {
          "output_type": "stream",
          "name": "stdout",
          "text": [
            "Enter the first variable:5\n",
            "Enter the second variable:9\n",
            "The value of v1 after swapping: 9\n",
            "The value of v2 after swapping: 5\n"
          ]
        }
      ]
    },
    {
      "cell_type": "code",
      "source": [
        "'''Write a Python program to calculate the area of a rectangle with given\n",
        "length and breadth.'''"
      ],
      "metadata": {
        "id": "eshgrWi-9j-T",
        "colab": {
          "base_uri": "https://localhost:8080/",
          "height": 35
        },
        "outputId": "7537f6fd-c56b-4ca6-ff3c-1beec5f6e48b"
      },
      "execution_count": null,
      "outputs": [
        {
          "output_type": "execute_result",
          "data": {
            "text/plain": [
              "'Write a Python program to calculate the area of a rectangle with given\\nlength and breadth.'"
            ],
            "application/vnd.google.colaboratory.intrinsic+json": {
              "type": "string"
            }
          },
          "metadata": {},
          "execution_count": 1
        }
      ]
    },
    {
      "cell_type": "code",
      "source": [
        "l=int(input('Enter the lenght of the rectangle: '))\n",
        "b=int(input('Enter the breadth of the rectangle: '))\n",
        "area=l*b\n",
        "print('Area of the rectangle is: ',area)"
      ],
      "metadata": {
        "colab": {
          "base_uri": "https://localhost:8080/"
        },
        "id": "HQu8c_Go-wZN",
        "outputId": "543782f3-ce52-465a-8b14-abe4481a8142"
      },
      "execution_count": null,
      "outputs": [
        {
          "output_type": "stream",
          "name": "stdout",
          "text": [
            "Enter the lenght of the rectangle: 4\n",
            "Enter the breadth of the rectangle: 6\n",
            "Area of the rectangle is:  24\n"
          ]
        }
      ]
    },
    {
      "cell_type": "code",
      "source": [
        "'''Write a Python program to calculate the sum of the digits of a three-digit\n",
        "number.'''"
      ],
      "metadata": {
        "colab": {
          "base_uri": "https://localhost:8080/",
          "height": 35
        },
        "id": "jiod2ri9-4Rv",
        "outputId": "38470e4e-cffb-4f24-8b50-49514a62db2f"
      },
      "execution_count": null,
      "outputs": [
        {
          "output_type": "execute_result",
          "data": {
            "text/plain": [
              "'Write a Python program to calculate the sum of the digits of a three-digit\\nnumber.'"
            ],
            "application/vnd.google.colaboratory.intrinsic+json": {
              "type": "string"
            }
          },
          "metadata": {},
          "execution_count": 3
        }
      ]
    },
    {
      "cell_type": "code",
      "source": [
        "num=int(input('Enter the 3 digit number: '))\n",
        "sum=num//100+(num%100)//10+num%10\n",
        "print('The sum of thed digits of the number is: ',sum)"
      ],
      "metadata": {
        "colab": {
          "base_uri": "https://localhost:8080/"
        },
        "id": "zZGw2ex5_EPs",
        "outputId": "58be564c-3abd-4286-ecf6-3093f89811cd"
      },
      "execution_count": null,
      "outputs": [
        {
          "output_type": "stream",
          "name": "stdout",
          "text": [
            "Enter the 3 digit number: 246\n",
            "The sum of thed digits of the number is:  12\n"
          ]
        }
      ]
    },
    {
      "cell_type": "code",
      "source": [
        "'''Write a Python program to check whether a given year is a leap year or\n",
        "not.'''"
      ],
      "metadata": {
        "colab": {
          "base_uri": "https://localhost:8080/",
          "height": 35
        },
        "id": "SB5iJvgp_H_Z",
        "outputId": "ff0f252e-4d58-48dd-b30e-0b626281725c"
      },
      "execution_count": null,
      "outputs": [
        {
          "output_type": "execute_result",
          "data": {
            "text/plain": [
              "'Write a Python program to check whether a given year is a leap year or\\nnot.'"
            ],
            "application/vnd.google.colaboratory.intrinsic+json": {
              "type": "string"
            }
          },
          "metadata": {},
          "execution_count": 6
        }
      ]
    },
    {
      "cell_type": "code",
      "source": [
        "year=int(input('Enter the year: '))\n",
        "if year%4==0:\n",
        "  if year%100==0:\n",
        "    if year%400==0:\n",
        "      print('The year is a leap year')\n",
        "    else:\n",
        "      print('The year is not a leap year')\n",
        "  else:\n",
        "    print('The year is a leap year')\n",
        "else:\n",
        "  print('The year is not a leap year')"
      ],
      "metadata": {
        "colab": {
          "base_uri": "https://localhost:8080/"
        },
        "id": "-MuBrvRR_UKx",
        "outputId": "3510d809-9b2b-40b6-9ba4-645dacf7c636"
      },
      "execution_count": null,
      "outputs": [
        {
          "output_type": "stream",
          "name": "stdout",
          "text": [
            "Enter the year: 2023\n",
            "The year is not a leap year\n"
          ]
        }
      ]
    },
    {
      "cell_type": "code",
      "source": [
        "'''Write a Python program to find the maximum and minimum of two\n",
        "numbers entered by the user.'''"
      ],
      "metadata": {
        "colab": {
          "base_uri": "https://localhost:8080/",
          "height": 35
        },
        "id": "X-f-UuEN_atx",
        "outputId": "d1ec4572-eee9-4d09-dbef-d3fe0a43d2ea"
      },
      "execution_count": null,
      "outputs": [
        {
          "output_type": "execute_result",
          "data": {
            "text/plain": [
              "'Write a Python program to find the maximum and minimum of two\\nnumbers entered by the user.'"
            ],
            "application/vnd.google.colaboratory.intrinsic+json": {
              "type": "string"
            }
          },
          "metadata": {},
          "execution_count": 8
        }
      ]
    },
    {
      "cell_type": "code",
      "source": [
        "a=float(input('Enter the first number: '))\n",
        "b=float(input('Enter the second number: '))\n",
        "if a>b:\n",
        "  max=a\n",
        "else:\n",
        "  max=b\n",
        "if a<b:\n",
        "  min=a\n",
        "else:\n",
        "  min=b\n",
        "print('The maximum of two number is: ',max)\n",
        "print('The minimum of two number is: ',min)"
      ],
      "metadata": {
        "colab": {
          "base_uri": "https://localhost:8080/"
        },
        "id": "gSkdgGqF_j-u",
        "outputId": "1da9bb58-d3c6-4544-b030-3bb4a9d3c6ea"
      },
      "execution_count": null,
      "outputs": [
        {
          "output_type": "stream",
          "name": "stdout",
          "text": [
            "Enter the first number: 54\n",
            "Enter the second number: 78\n",
            "The maximum of two number is:  78.0\n",
            "The minimum of two number is:  54.0\n"
          ]
        }
      ]
    },
    {
      "cell_type": "code",
      "source": [],
      "metadata": {
        "id": "mlotNSpB_nbM"
      },
      "execution_count": null,
      "outputs": []
    }
  ]
}